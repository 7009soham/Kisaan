{
 "cells": [
  {
   "cell_type": "markdown",
   "id": "186d0bd4",
   "metadata": {},
   "source": [
    "# Kisaan Colab Training (GPU)\n",
    "Use this notebook on Google Colab to fine-tune the Topic and Sub-topic heads with PEFT/LoRA, then run inference on the combined CSV. Run cells top-to-bottom."
   ]
  },
  {
   "cell_type": "code",
   "execution_count": null,
   "id": "22c42137",
   "metadata": {},
   "outputs": [],
   "source": [
    "# 1. Configure project paths\n",
    "from pathlib import Path\n",
    "import os\n",
    "import json\n",
    "PROJECT_DIR = Path(\"/content/Kisaan\")  # path after cloning the GitHub repo\n",
    "DATASET_PATH = PROJECT_DIR / \"Datasets\" / \"KCC_MarMay2025_combined.csv\"\n",
    "MODELS_DIR = PROJECT_DIR / \"models\"\n",
    "PROCESSED_DIR = PROJECT_DIR / \"Datasets\" / \"processed\"\n",
    "print(\"Project directory:\", PROJECT_DIR)\n",
    "print(\"Dataset path:\", DATASET_PATH)"
   ]
  }
 ],
 "metadata": {
  "language_info": {
   "name": "python"
  }
 },
 "nbformat": 4,
 "nbformat_minor": 5
}
